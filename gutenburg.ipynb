{
 "cells": [
  {
   "cell_type": "markdown",
   "id": "56a71fb8",
   "metadata": {},
   "source": [
    "Week 4 Gutenburg Notebook "
   ]
  },
  {
   "cell_type": "code",
   "execution_count": 1,
   "id": "4f3de746",
   "metadata": {},
   "outputs": [
    {
     "name": "stdout",
     "output_type": "stream",
     "text": [
      "/bin/bash: conda: command not found\n"
     ]
    }
   ],
   "source": [
    "! conda env list"
   ]
  },
  {
   "cell_type": "code",
   "execution_count": null,
   "id": "7f0e079a",
   "metadata": {},
   "outputs": [
    {
     "data": {
      "text/html": [
       "<div>\n",
       "<style scoped>\n",
       "    .dataframe tbody tr th:only-of-type {\n",
       "        vertical-align: middle;\n",
       "    }\n",
       "\n",
       "    .dataframe tbody tr th {\n",
       "        vertical-align: top;\n",
       "    }\n",
       "\n",
       "    .dataframe thead th {\n",
       "        text-align: right;\n",
       "    }\n",
       "</style>\n",
       "<table border=\"1\" class=\"dataframe\">\n",
       "  <thead>\n",
       "    <tr style=\"text-align: right;\">\n",
       "      <th></th>\n",
       "      <th>gutenberg_author_id</th>\n",
       "      <th>author</th>\n",
       "      <th>alias</th>\n",
       "      <th>birthdate</th>\n",
       "      <th>deathdate</th>\n",
       "      <th>wikipedia</th>\n",
       "      <th>aliases</th>\n",
       "    </tr>\n",
       "  </thead>\n",
       "  <tbody>\n",
       "    <tr>\n",
       "      <th>0</th>\n",
       "      <td>1</td>\n",
       "      <td>United States</td>\n",
       "      <td>U.S.A.</td>\n",
       "      <td>NaN</td>\n",
       "      <td>NaN</td>\n",
       "      <td>https://en.wikipedia.org/wiki/United_States</td>\n",
       "      <td>U.S.A.</td>\n",
       "    </tr>\n",
       "    <tr>\n",
       "      <th>1</th>\n",
       "      <td>3</td>\n",
       "      <td>Lincoln, Abraham</td>\n",
       "      <td>NaN</td>\n",
       "      <td>1809.0</td>\n",
       "      <td>1865.0</td>\n",
       "      <td>https://en.wikipedia.org/wiki/Abraham_Lincoln</td>\n",
       "      <td>United States President (1861-1865)/Lincoln, Abe</td>\n",
       "    </tr>\n",
       "    <tr>\n",
       "      <th>2</th>\n",
       "      <td>4</td>\n",
       "      <td>Henry, Patrick</td>\n",
       "      <td>NaN</td>\n",
       "      <td>1736.0</td>\n",
       "      <td>1799.0</td>\n",
       "      <td>https://en.wikipedia.org/wiki/Patrick_Henry</td>\n",
       "      <td>NaN</td>\n",
       "    </tr>\n",
       "    <tr>\n",
       "      <th>3</th>\n",
       "      <td>5</td>\n",
       "      <td>Adam, Paul</td>\n",
       "      <td>NaN</td>\n",
       "      <td>1849.0</td>\n",
       "      <td>1931.0</td>\n",
       "      <td>https://de.wikipedia.org/wiki/Paul_Adam_(Buchb...</td>\n",
       "      <td>NaN</td>\n",
       "    </tr>\n",
       "    <tr>\n",
       "      <th>4</th>\n",
       "      <td>7</td>\n",
       "      <td>Carroll, Lewis</td>\n",
       "      <td>Dodgson, Charles Lutwidge</td>\n",
       "      <td>1832.0</td>\n",
       "      <td>1898.0</td>\n",
       "      <td>https://en.wikipedia.org/wiki/Lewis_Carroll</td>\n",
       "      <td>Dodgson, Charles Lutwidge</td>\n",
       "    </tr>\n",
       "  </tbody>\n",
       "</table>\n",
       "</div>"
      ],
      "text/plain": [
       "   gutenberg_author_id            author                      alias  \\\n",
       "0                    1     United States                     U.S.A.   \n",
       "1                    3  Lincoln, Abraham                        NaN   \n",
       "2                    4    Henry, Patrick                        NaN   \n",
       "3                    5        Adam, Paul                        NaN   \n",
       "4                    7    Carroll, Lewis  Dodgson, Charles Lutwidge   \n",
       "\n",
       "   birthdate  deathdate                                          wikipedia  \\\n",
       "0        NaN        NaN        https://en.wikipedia.org/wiki/United_States   \n",
       "1     1809.0     1865.0      https://en.wikipedia.org/wiki/Abraham_Lincoln   \n",
       "2     1736.0     1799.0        https://en.wikipedia.org/wiki/Patrick_Henry   \n",
       "3     1849.0     1931.0  https://de.wikipedia.org/wiki/Paul_Adam_(Buchb...   \n",
       "4     1832.0     1898.0        https://en.wikipedia.org/wiki/Lewis_Carroll   \n",
       "\n",
       "                                            aliases  \n",
       "0                                            U.S.A.  \n",
       "1  United States President (1861-1865)/Lincoln, Abe  \n",
       "2                                               NaN  \n",
       "3                                               NaN  \n",
       "4                         Dodgson, Charles Lutwidge  "
      ]
     },
     "execution_count": 2,
     "metadata": {},
     "output_type": "execute_result"
    }
   ],
   "source": [
    "#Scratch work \n",
    "import pandas as pd \n"
   ]
  },
  {
   "cell_type": "code",
   "execution_count": null,
   "id": "c36c3bdf",
   "metadata": {},
   "outputs": [
    {
     "data": {
      "text/html": [
       "<div>\n",
       "<style scoped>\n",
       "    .dataframe tbody tr th:only-of-type {\n",
       "        vertical-align: middle;\n",
       "    }\n",
       "\n",
       "    .dataframe tbody tr th {\n",
       "        vertical-align: top;\n",
       "    }\n",
       "\n",
       "    .dataframe thead th {\n",
       "        text-align: right;\n",
       "    }\n",
       "</style>\n",
       "<table border=\"1\" class=\"dataframe\">\n",
       "  <thead>\n",
       "    <tr style=\"text-align: right;\">\n",
       "      <th></th>\n",
       "      <th>gutenberg_author_id</th>\n",
       "      <th>author</th>\n",
       "      <th>alias</th>\n",
       "      <th>birthdate</th>\n",
       "      <th>deathdate</th>\n",
       "      <th>wikipedia</th>\n",
       "      <th>aliases</th>\n",
       "    </tr>\n",
       "  </thead>\n",
       "  <tbody>\n",
       "    <tr>\n",
       "      <th>0</th>\n",
       "      <td>1</td>\n",
       "      <td>United States</td>\n",
       "      <td>U.S.A.</td>\n",
       "      <td>NaN</td>\n",
       "      <td>NaN</td>\n",
       "      <td>https://en.wikipedia.org/wiki/United_States</td>\n",
       "      <td>U.S.A.</td>\n",
       "    </tr>\n",
       "    <tr>\n",
       "      <th>1</th>\n",
       "      <td>3</td>\n",
       "      <td>Lincoln, Abraham</td>\n",
       "      <td>NaN</td>\n",
       "      <td>1809.0</td>\n",
       "      <td>1865.0</td>\n",
       "      <td>https://en.wikipedia.org/wiki/Abraham_Lincoln</td>\n",
       "      <td>United States President (1861-1865)/Lincoln, Abe</td>\n",
       "    </tr>\n",
       "    <tr>\n",
       "      <th>2</th>\n",
       "      <td>4</td>\n",
       "      <td>Henry, Patrick</td>\n",
       "      <td>NaN</td>\n",
       "      <td>1736.0</td>\n",
       "      <td>1799.0</td>\n",
       "      <td>https://en.wikipedia.org/wiki/Patrick_Henry</td>\n",
       "      <td>NaN</td>\n",
       "    </tr>\n",
       "    <tr>\n",
       "      <th>3</th>\n",
       "      <td>5</td>\n",
       "      <td>Adam, Paul</td>\n",
       "      <td>NaN</td>\n",
       "      <td>1849.0</td>\n",
       "      <td>1931.0</td>\n",
       "      <td>https://de.wikipedia.org/wiki/Paul_Adam_(Buchb...</td>\n",
       "      <td>NaN</td>\n",
       "    </tr>\n",
       "    <tr>\n",
       "      <th>4</th>\n",
       "      <td>7</td>\n",
       "      <td>Carroll, Lewis</td>\n",
       "      <td>Dodgson, Charles Lutwidge</td>\n",
       "      <td>1832.0</td>\n",
       "      <td>1898.0</td>\n",
       "      <td>https://en.wikipedia.org/wiki/Lewis_Carroll</td>\n",
       "      <td>Dodgson, Charles Lutwidge</td>\n",
       "    </tr>\n",
       "  </tbody>\n",
       "</table>\n",
       "</div>"
      ],
      "text/plain": [
       "   gutenberg_author_id            author                      alias  \\\n",
       "0                    1     United States                     U.S.A.   \n",
       "1                    3  Lincoln, Abraham                        NaN   \n",
       "2                    4    Henry, Patrick                        NaN   \n",
       "3                    5        Adam, Paul                        NaN   \n",
       "4                    7    Carroll, Lewis  Dodgson, Charles Lutwidge   \n",
       "\n",
       "   birthdate  deathdate                                          wikipedia  \\\n",
       "0        NaN        NaN        https://en.wikipedia.org/wiki/United_States   \n",
       "1     1809.0     1865.0      https://en.wikipedia.org/wiki/Abraham_Lincoln   \n",
       "2     1736.0     1799.0        https://en.wikipedia.org/wiki/Patrick_Henry   \n",
       "3     1849.0     1931.0  https://de.wikipedia.org/wiki/Paul_Adam_(Buchb...   \n",
       "4     1832.0     1898.0        https://en.wikipedia.org/wiki/Lewis_Carroll   \n",
       "\n",
       "                                            aliases  \n",
       "0                                            U.S.A.  \n",
       "1  United States President (1861-1865)/Lincoln, Abe  \n",
       "2                                               NaN  \n",
       "3                                               NaN  \n",
       "4                         Dodgson, Charles Lutwidge  "
      ]
     },
     "execution_count": 5,
     "metadata": {},
     "output_type": "execute_result"
    }
   ],
   "source": [
    "#Read in the data \n",
    "data = pd.read_csv(\"https://raw.githubusercontent.com/rfordatascience/tidytuesday/main/data/2025/2025-06-03/gutenberg_authors.csv\")\n",
    "\n",
    "data.head()\n",
    "data.info()"
   ]
  },
  {
   "cell_type": "code",
   "execution_count": 9,
   "id": "afe1bf94",
   "metadata": {},
   "outputs": [],
   "source": [
    "#Start by removing the null values \n",
    "na_filter = data[\"alias\"].notna()\n",
    "na_filter.head()\n",
    "\n",
    "clean_data = data[na_filter]"
   ]
  },
  {
   "cell_type": "code",
   "execution_count": 11,
   "id": "492b9edd",
   "metadata": {},
   "outputs": [
    {
     "name": "stdout",
     "output_type": "stream",
     "text": [
      "<class 'pandas.core.frame.DataFrame'>\n",
      "Index: 8651 entries, 0 to 26065\n",
      "Data columns (total 7 columns):\n",
      " #   Column               Non-Null Count  Dtype  \n",
      "---  ------               --------------  -----  \n",
      " 0   gutenberg_author_id  8651 non-null   int64  \n",
      " 1   author               8651 non-null   object \n",
      " 2   alias                8651 non-null   object \n",
      " 3   birthdate            7215 non-null   float64\n",
      " 4   deathdate            6736 non-null   float64\n",
      " 5   wikipedia            4902 non-null   object \n",
      " 6   aliases              8651 non-null   object \n",
      "dtypes: float64(2), int64(1), object(4)\n",
      "memory usage: 540.7+ KB\n"
     ]
    }
   ],
   "source": [
    "clean_data.head()\n",
    "clean_data.info()"
   ]
  },
  {
   "cell_type": "code",
   "execution_count": null,
   "id": "82a35cc0",
   "metadata": {},
   "outputs": [],
   "source": []
  }
 ],
 "metadata": {
  "kernelspec": {
   "display_name": ".venv",
   "language": "python",
   "name": "python3"
  },
  "language_info": {
   "codemirror_mode": {
    "name": "ipython",
    "version": 3
   },
   "file_extension": ".py",
   "mimetype": "text/x-python",
   "name": "python",
   "nbconvert_exporter": "python",
   "pygments_lexer": "ipython3",
   "version": "3.12.11"
  }
 },
 "nbformat": 4,
 "nbformat_minor": 5
}
